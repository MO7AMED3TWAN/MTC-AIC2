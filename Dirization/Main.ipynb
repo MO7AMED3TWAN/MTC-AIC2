{
 "cells": [
  {
   "cell_type": "code",
   "execution_count": null,
   "metadata": {},
   "outputs": [],
   "source": [
    "from resemblyzer import preprocess_wav, VoiceEncoder\n",
    "from pathlib import Path"
   ]
  },
  {
   "cell_type": "code",
   "execution_count": null,
   "metadata": {},
   "outputs": [],
   "source": [
    "#give the file path to your audio file\n",
    "audio_file_path = './Data/DataForDirization/audio_sample_20.wav'\n",
    "wav_fpath = Path(audio_file_path)\n",
    "\n",
    "wav = preprocess_wav(wav_fpath)\n",
    "encoder = VoiceEncoder(\"cpu\")\n",
    "_, cont_embeds, wav_splits = encoder.embed_utterance(wav, return_partials=True, rate=16)\n",
    "print(cont_embeds.shape)"
   ]
  },
  {
   "cell_type": "code",
   "execution_count": null,
   "metadata": {},
   "outputs": [],
   "source": [
    "from pydub import AudioSegment\n",
    "\n",
    "def mp3_to_wav(audio_file_path):\n",
    "    sound = AudioSegment.from_mp3(audio_file_path)\n",
    "    audio_file_path = audio_file_path.split('.')[0] + '.wav'\n",
    "    sound.export(audio_file_path, format=\"wav\")\n",
    "    return audio_file_path\n",
    "\n",
    "audio_file_path = mp3_to_wav(audio_file_path)\n",
    "print(audio_file_path)"
   ]
  },
  {
   "cell_type": "code",
   "execution_count": null,
   "metadata": {},
   "outputs": [],
   "source": [
    "from spectralcluster import SpectralClusterer\n",
    "\n",
    "clusterer = SpectralClusterer(\n",
    "    min_clusters=2,\n",
    "    max_clusters=3,\n",
    "    # p_percentile=0.90,\n",
    "    # gaussian_blur_sigma=1)\n",
    ")\n",
    "labels = clusterer.predict(cont_embeds)"
   ]
  },
  {
   "cell_type": "code",
   "execution_count": null,
   "metadata": {},
   "outputs": [],
   "source": [
    "1  2  3  4 "
   ]
  },
  {
   "cell_type": "code",
   "execution_count": null,
   "metadata": {},
   "outputs": [],
   "source": [
    "import json\n",
    "import numpy as np\n",
    "\n",
    "def create_labelling(labels, wav_splits):\n",
    "    \n",
    "    \n",
    "    \n",
    "    \n",
    "    from resemblyzer import sampling_rate\n",
    "    times = [((s.start + s.stop) / 2) / sampling_rate for s in wav_splits]\n",
    "    labelling = []\n",
    "    start_time = 0\n",
    "\n",
    "    for i, time in enumerate(times):\n",
    "        if i > 0 and labels[i] != labels[i - 1]:\n",
    "            temp = {\n",
    "                \"start\": float(start_time),\n",
    "                \"end\": float(time),\n",
    "                \"speaker\": int(labels[i - 1])\n",
    "            }\n",
    "            labelling.append(temp)\n",
    "            start_time = time\n",
    "        if i == len(times) - 1:\n",
    "            temp = {\n",
    "                \"start\": float(start_time),\n",
    "                \"end\": float(time),\n",
    "                \"speaker\": int(labels[i])\n",
    "                \"text\":?????\n",
    "            }\n",
    "            labelling.append(temp)\n",
    "\n",
    "    return labelling\n",
    "\n",
    "labelling = create_labelling(labels, wav_splits)\n",
    "\n",
    "# Save the labelling to a JSON file\n",
    "with open('Ourlabelling.json', 'w', encoding='utf-8') as f:\n",
    "    json.dump(labelling, f, ensure_ascii=False, indent=4)\n",
    "\n",
    "print(\"Labelling saved to labelling.json\")\n"
   ]
  },
  {
   "cell_type": "code",
   "execution_count": null,
   "metadata": {},
   "outputs": [],
   "source": [
    "labelling"
   ]
  },
  {
   "cell_type": "code",
   "execution_count": null,
   "metadata": {},
   "outputs": [],
   "source": []
  }
 ],
 "metadata": {
  "kernelspec": {
   "display_name": "Python 3",
   "language": "python",
   "name": "python3"
  },
  "language_info": {
   "codemirror_mode": {
    "name": "ipython",
    "version": 3
   },
   "file_extension": ".py",
   "mimetype": "text/x-python",
   "name": "python",
   "nbconvert_exporter": "python",
   "pygments_lexer": "ipython3",
   "version": "3.12.3"
  }
 },
 "nbformat": 4,
 "nbformat_minor": 2
}
