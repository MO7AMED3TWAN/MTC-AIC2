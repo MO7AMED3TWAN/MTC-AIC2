{
 "cells": [
  {
   "cell_type": "code",
   "execution_count": 11,
   "metadata": {},
   "outputs": [],
   "source": [
    "from Dirization import preprocess_wav, VoiceEncoder\n",
    "from pathlib import Path"
   ]
  },
  {
   "cell_type": "code",
   "execution_count": 12,
   "metadata": {},
   "outputs": [
    {
     "name": "stdout",
     "output_type": "stream",
     "text": [
      "Loaded the voice encoder model on cpu in 0.04 seconds.\n",
      "(360, 256)\n"
     ]
    }
   ],
   "source": [
    "#give the file path to your audio file and for the model\n",
    "audio_file_path = './Data/DataForDirization/sample.wav'\n",
    "wav_path = Path(audio_file_path)\n",
    "\n",
    "\n",
    "model_file_path = './Models/DIRIZATIONMODEL.pt'\n",
    "model_path= Path(model_file_path)\n",
    "\n",
    "wav = preprocess_wav(wav_path)\n",
    "encoder = VoiceEncoder(\"cpu\", weights_fpath=model_path)\n",
    "_, cont_embeds, wav_splits = encoder.embed_utterance(wav, return_partials=True, rate=16)\n",
    "print(cont_embeds.shape)"
   ]
  },
  {
   "cell_type": "code",
   "execution_count": 13,
   "metadata": {},
   "outputs": [],
   "source": [
    "from spectralcluster import SpectralClusterer\n",
    "from spectralcluster.utils import EigenGapType\n",
    "\n",
    "clusterer = SpectralClusterer(\n",
    "    min_clusters=2,\n",
    "    max_clusters=100,\n",
    "    eigengap_type=EigenGapType.Ratio\n",
    ")\n",
    "labels = clusterer.predict(cont_embeds)"
   ]
  },
  {
   "cell_type": "code",
   "execution_count": 14,
   "metadata": {},
   "outputs": [
    {
     "name": "stdout",
     "output_type": "stream",
     "text": [
      "Labelling saved to labelling.json\n"
     ]
    }
   ],
   "source": [
    "import json\n",
    "# import numpy as np\n",
    "\n",
    "def create_labelling(labels, wav_splits):\n",
    "    \n",
    "    from Dirization import sampling_rate\n",
    "    times = [((s.start + s.stop) / 2) / sampling_rate for s in wav_splits]\n",
    "    labelling = []\n",
    "    start_time = 0\n",
    "\n",
    "    for i, time in enumerate(times):\n",
    "        if i > 0 and labels[i] != labels[i - 1]:\n",
    "            temp = {\n",
    "                \"start\": float(start_time),\n",
    "                \"end\": float(time),\n",
    "                \"speaker\": int(labels[i - 1])\n",
    "            }\n",
    "            labelling.append(temp)\n",
    "            start_time = time\n",
    "        if i == len(times) - 1:\n",
    "            temp = {\n",
    "                \"start\": float(start_time),\n",
    "                \"end\": float(time),\n",
    "                \"speaker\": int(labels[i])\n",
    "            }\n",
    "            labelling.append(temp)\n",
    "\n",
    "    return labelling\n",
    "\n",
    "predicted_data = create_labelling(labels, wav_splits)\n",
    "\n",
    "# Save the labelling to a JSON file\n",
    "with open('./Output/Ourlabelling.json', 'w', encoding='utf-8') as f:\n",
    "    json.dump(predicted_data, f, ensure_ascii=False, indent=4)\n",
    "\n",
    "print(\"Labelling saved to labelling.json\")"
   ]
  },
  {
   "cell_type": "code",
   "execution_count": 15,
   "metadata": {},
   "outputs": [
    {
     "data": {
      "text/plain": [
       "[{'start': 0.0, 'end': 1.58, 'speaker': 1},\n",
       " {'start': 1.58, 'end': 3.26, 'speaker': 0},\n",
       " {'start': 3.26, 'end': 4.34, 'speaker': 1},\n",
       " {'start': 4.34, 'end': 7.58, 'speaker': 0},\n",
       " {'start': 7.58, 'end': 11.66, 'speaker': 1},\n",
       " {'start': 11.66, 'end': 11.72, 'speaker': 0},\n",
       " {'start': 11.72, 'end': 11.9, 'speaker': 1},\n",
       " {'start': 11.9, 'end': 11.96, 'speaker': 0},\n",
       " {'start': 11.96, 'end': 12.62, 'speaker': 1},\n",
       " {'start': 12.62, 'end': 15.08, 'speaker': 0},\n",
       " {'start': 15.08, 'end': 21.26, 'speaker': 1},\n",
       " {'start': 21.26, 'end': 22.34, 'speaker': 0}]"
      ]
     },
     "execution_count": 15,
     "metadata": {},
     "output_type": "execute_result"
    }
   ],
   "source": [
    "predicted_data"
   ]
  },
  {
   "cell_type": "code",
   "execution_count": 16,
   "metadata": {},
   "outputs": [],
   "source": [
    "import json\n",
    "\n",
    "# Function to read JSON file\n",
    "def read_json(file_path):\n",
    "    with open(file_path, 'r') as file:\n",
    "        data = json.load(file)\n",
    "    return data\n",
    "\n",
    "# Read the JSON files\n",
    "reference_path = './Data/DataForDirization/audio_sample_20.json'\n",
    "# file2_path = 'path/to/second_file.json'\n",
    "\n",
    "reference_data = read_json(reference_path)\n",
    "# data2 = read_json(file2_path)\n"
   ]
  },
  {
   "cell_type": "code",
   "execution_count": 17,
   "metadata": {},
   "outputs": [],
   "source": [
    "def calculate_overlap(interval1, interval2):\n",
    "    start = max(interval1['start'], interval2['start'])\n",
    "    end = min(interval1['end'], interval2['end'])\n",
    "    return max(0, end - start)\n",
    "\n",
    "def calculate_diarization_errors(reference, predicted):\n",
    "    FA = 0\n",
    "    Miss = 0\n",
    "    Error = 0\n",
    "    Total = 0\n",
    "\n",
    "    for ref in reference:\n",
    "        ref_interval = {'start': ref['start'], 'end': ref['end']}\n",
    "        Total += ref_interval['end'] - ref_interval['start']\n",
    "        overlap_found = False\n",
    "\n",
    "        for pred in predicted:\n",
    "            pred_interval = {'start': pred['start'], 'end': pred['end']}\n",
    "            overlap = calculate_overlap(ref_interval, pred_interval)\n",
    "\n",
    "            if overlap > 0:\n",
    "                overlap_found = True\n",
    "                if ref['speaker'] != pred['speaker']:\n",
    "                    Error += overlap\n",
    "                # Reduce overlap from predicted interval to avoid double counting\n",
    "                pred['start'] = max(pred['start'], ref['end'])\n",
    "        \n",
    "        if not overlap_found:\n",
    "            Miss += ref_interval['end'] - ref_interval['start']\n",
    "\n",
    "    for pred in predicted:\n",
    "        pred_interval = {'start': pred['start'], 'end': pred['end']}\n",
    "        FA += pred_interval['end'] - pred_interval['start']\n",
    "\n",
    "    DER = (FA + Miss + Error) / Total\n",
    "    return DER, FA, Miss, Error, Total\n"
   ]
  },
  {
   "cell_type": "code",
   "execution_count": null,
   "metadata": {},
   "outputs": [],
   "source": [
    "# Calculate DER\n",
    "DER, FA, Miss, Error, Total = calculate_diarization_errors(reference_data, predicted_data)\n",
    "\n",
    "# Print the results\n",
    "print(f'DER: {DER:.4f}')\n",
    "print(f'False Alarm (FA): {FA:.4f}')\n",
    "print(f'Miss: {Miss:.4f}')\n",
    "print(f'Error: {Error:.4f}')\n",
    "print(f'Total: {Total:.4f}')"
   ]
  }
 ],
 "metadata": {
  "kernelspec": {
   "display_name": "Python 3",
   "language": "python",
   "name": "python3"
  },
  "language_info": {
   "codemirror_mode": {
    "name": "ipython",
    "version": 3
   },
   "file_extension": ".py",
   "mimetype": "text/x-python",
   "name": "python",
   "nbconvert_exporter": "python",
   "pygments_lexer": "ipython3",
   "version": "3.12.3"
  }
 },
 "nbformat": 4,
 "nbformat_minor": 2
}
